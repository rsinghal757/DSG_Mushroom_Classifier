{
 "cells": [
  {
   "cell_type": "markdown",
   "metadata": {},
   "source": [
    "# Loading the datasets"
   ]
  },
  {
   "cell_type": "code",
   "execution_count": 65,
   "metadata": {
    "collapsed": true
   },
   "outputs": [],
   "source": [
    "mushroom_train = read.csv(\"mushroom_train.csv\")\n",
    "mushroom_test = read.csv(\"mushroom_test.csv\")"
   ]
  },
  {
   "cell_type": "markdown",
   "metadata": {},
   "source": [
    "### Brief look at data"
   ]
  },
  {
   "cell_type": "code",
   "execution_count": 66,
   "metadata": {},
   "outputs": [
    {
     "data": {
      "text/html": [
       "<table>\n",
       "<thead><tr><th scope=col>class</th><th scope=col>cap.shape</th><th scope=col>cap.surface</th><th scope=col>cap.color</th><th scope=col>bruises</th><th scope=col>odor</th><th scope=col>gill.attachment</th><th scope=col>gill.spacing</th><th scope=col>gill.size</th><th scope=col>gill.color</th><th scope=col>...</th><th scope=col>stalk.color.above.ring</th><th scope=col>stalk.color.below.ring</th><th scope=col>veil.type</th><th scope=col>veil.color</th><th scope=col>weight</th><th scope=col>ring.number</th><th scope=col>ring.type</th><th scope=col>spore.print.color</th><th scope=col>population</th><th scope=col>habitat</th></tr></thead>\n",
       "<tbody>\n",
       "\t<tr><td>p  </td><td>f  </td><td>s  </td><td>e  </td><td>f  </td><td>s  </td><td>f  </td><td>c  </td><td>n  </td><td>b  </td><td>...</td><td>p  </td><td>w  </td><td>p  </td><td>w  </td><td>38 </td><td>o  </td><td>e  </td><td>w  </td><td>v  </td><td>l  </td></tr>\n",
       "\t<tr><td>p  </td><td>x  </td><td>y  </td><td>w  </td><td>t  </td><td>p  </td><td>f  </td><td>c  </td><td>n  </td><td>k  </td><td>...</td><td>w  </td><td>w  </td><td>p  </td><td>w  </td><td>43 </td><td>o  </td><td>p  </td><td>n  </td><td>v  </td><td>u  </td></tr>\n",
       "\t<tr><td>e  </td><td>f  </td><td>s  </td><td>n  </td><td>t  </td><td>n  </td><td>f  </td><td>c  </td><td>b  </td><td>e  </td><td>...</td><td>e  </td><td>e  </td><td>p  </td><td>w  </td><td>37 </td><td>t  </td><td>e  </td><td>w  </td><td>c  </td><td>w  </td></tr>\n",
       "\t<tr><td>p  </td><td>x  </td><td>s  </td><td>e  </td><td>f  </td><td>y  </td><td>f  </td><td>c  </td><td>n  </td><td>b  </td><td>...</td><td>p  </td><td>w  </td><td>p  </td><td>w  </td><td>82 </td><td>o  </td><td>e  </td><td>w  </td><td>v  </td><td>l  </td></tr>\n",
       "\t<tr><td>e  </td><td>x  </td><td>s  </td><td>w  </td><td>t  </td><td>l  </td><td>f  </td><td>c  </td><td>b  </td><td>n  </td><td>...</td><td>w  </td><td>w  </td><td>p  </td><td>w  </td><td>36 </td><td>o  </td><td>p  </td><td>n  </td><td>s  </td><td>m  </td></tr>\n",
       "\t<tr><td>p  </td><td>x  </td><td>f  </td><td>y  </td><td>f  </td><td>f  </td><td>f  </td><td>c  </td><td>b  </td><td>h  </td><td>...</td><td>p  </td><td>n  </td><td>p  </td><td>w  </td><td>23 </td><td>o  </td><td>l  </td><td>h  </td><td>y  </td><td>g  </td></tr>\n",
       "</tbody>\n",
       "</table>\n"
      ],
      "text/latex": [
       "\\begin{tabular}{r|lllllllllllllllllllllllll}\n",
       " class & cap.shape & cap.surface & cap.color & bruises & odor & gill.attachment & gill.spacing & gill.size & gill.color & ... & stalk.color.above.ring & stalk.color.below.ring & veil.type & veil.color & weight & ring.number & ring.type & spore.print.color & population & habitat\\\\\n",
       "\\hline\n",
       "\t p   & f   & s   & e   & f   & s   & f   & c   & n   & b   & ... & p   & w   & p   & w   & 38  & o   & e   & w   & v   & l  \\\\\n",
       "\t p   & x   & y   & w   & t   & p   & f   & c   & n   & k   & ... & w   & w   & p   & w   & 43  & o   & p   & n   & v   & u  \\\\\n",
       "\t e   & f   & s   & n   & t   & n   & f   & c   & b   & e   & ... & e   & e   & p   & w   & 37  & t   & e   & w   & c   & w  \\\\\n",
       "\t p   & x   & s   & e   & f   & y   & f   & c   & n   & b   & ... & p   & w   & p   & w   & 82  & o   & e   & w   & v   & l  \\\\\n",
       "\t e   & x   & s   & w   & t   & l   & f   & c   & b   & n   & ... & w   & w   & p   & w   & 36  & o   & p   & n   & s   & m  \\\\\n",
       "\t p   & x   & f   & y   & f   & f   & f   & c   & b   & h   & ... & p   & n   & p   & w   & 23  & o   & l   & h   & y   & g  \\\\\n",
       "\\end{tabular}\n"
      ],
      "text/markdown": [
       "\n",
       "class | cap.shape | cap.surface | cap.color | bruises | odor | gill.attachment | gill.spacing | gill.size | gill.color | ... | stalk.color.above.ring | stalk.color.below.ring | veil.type | veil.color | weight | ring.number | ring.type | spore.print.color | population | habitat | \n",
       "|---|---|---|---|---|---|\n",
       "| p   | f   | s   | e   | f   | s   | f   | c   | n   | b   | ... | p   | w   | p   | w   | 38  | o   | e   | w   | v   | l   | \n",
       "| p   | x   | y   | w   | t   | p   | f   | c   | n   | k   | ... | w   | w   | p   | w   | 43  | o   | p   | n   | v   | u   | \n",
       "| e   | f   | s   | n   | t   | n   | f   | c   | b   | e   | ... | e   | e   | p   | w   | 37  | t   | e   | w   | c   | w   | \n",
       "| p   | x   | s   | e   | f   | y   | f   | c   | n   | b   | ... | p   | w   | p   | w   | 82  | o   | e   | w   | v   | l   | \n",
       "| e   | x   | s   | w   | t   | l   | f   | c   | b   | n   | ... | w   | w   | p   | w   | 36  | o   | p   | n   | s   | m   | \n",
       "| p   | x   | f   | y   | f   | f   | f   | c   | b   | h   | ... | p   | n   | p   | w   | 23  | o   | l   | h   | y   | g   | \n",
       "\n",
       "\n"
      ],
      "text/plain": [
       "  class cap.shape cap.surface cap.color bruises odor gill.attachment\n",
       "1 p     f         s           e         f       s    f              \n",
       "2 p     x         y           w         t       p    f              \n",
       "3 e     f         s           n         t       n    f              \n",
       "4 p     x         s           e         f       y    f              \n",
       "5 e     x         s           w         t       l    f              \n",
       "6 p     x         f           y         f       f    f              \n",
       "  gill.spacing gill.size gill.color ... stalk.color.above.ring\n",
       "1 c            n         b          ... p                     \n",
       "2 c            n         k          ... w                     \n",
       "3 c            b         e          ... e                     \n",
       "4 c            n         b          ... p                     \n",
       "5 c            b         n          ... w                     \n",
       "6 c            b         h          ... p                     \n",
       "  stalk.color.below.ring veil.type veil.color weight ring.number ring.type\n",
       "1 w                      p         w          38     o           e        \n",
       "2 w                      p         w          43     o           p        \n",
       "3 e                      p         w          37     t           e        \n",
       "4 w                      p         w          82     o           e        \n",
       "5 w                      p         w          36     o           p        \n",
       "6 n                      p         w          23     o           l        \n",
       "  spore.print.color population habitat\n",
       "1 w                 v          l      \n",
       "2 n                 v          u      \n",
       "3 w                 c          w      \n",
       "4 w                 v          l      \n",
       "5 n                 s          m      \n",
       "6 h                 y          g      "
      ]
     },
     "metadata": {},
     "output_type": "display_data"
    },
    {
     "data": {
      "text/html": [
       "<table>\n",
       "<thead><tr><th scope=col>cap.shape</th><th scope=col>cap.surface</th><th scope=col>cap.color</th><th scope=col>bruises</th><th scope=col>odor</th><th scope=col>gill.attachment</th><th scope=col>gill.spacing</th><th scope=col>gill.size</th><th scope=col>gill.color</th><th scope=col>stalk.shape</th><th scope=col>...</th><th scope=col>stalk.color.above.ring</th><th scope=col>stalk.color.below.ring</th><th scope=col>veil.type</th><th scope=col>veil.color</th><th scope=col>weight</th><th scope=col>ring.number</th><th scope=col>ring.type</th><th scope=col>spore.print.color</th><th scope=col>population</th><th scope=col>habitat</th></tr></thead>\n",
       "<tbody>\n",
       "\t<tr><td>x  </td><td>f  </td><td>g  </td><td>t  </td><td>n  </td><td>f  </td><td>c  </td><td>b  </td><td>u  </td><td>t  </td><td>...</td><td>p  </td><td>g  </td><td>p  </td><td>w  </td><td>23 </td><td>o  </td><td>p  </td><td>k  </td><td>y  </td><td>d  </td></tr>\n",
       "\t<tr><td>x  </td><td>y  </td><td>g  </td><td>f  </td><td>f  </td><td>f  </td><td>c  </td><td>b  </td><td>g  </td><td>e  </td><td>...</td><td>b  </td><td>b  </td><td>p  </td><td>w  </td><td>23 </td><td>o  </td><td>l  </td><td>h  </td><td>v  </td><td>d  </td></tr>\n",
       "\t<tr><td>b  </td><td>s  </td><td>w  </td><td>t  </td><td>a  </td><td>f  </td><td>c  </td><td>b  </td><td>w  </td><td>e  </td><td>...</td><td>w  </td><td>w  </td><td>p  </td><td>w  </td><td>24 </td><td>o  </td><td>p  </td><td>k  </td><td>s  </td><td>m  </td></tr>\n",
       "\t<tr><td>f  </td><td>y  </td><td>y  </td><td>f  </td><td>f  </td><td>f  </td><td>c  </td><td>b  </td><td>p  </td><td>e  </td><td>...</td><td>n  </td><td>b  </td><td>p  </td><td>w  </td><td>53 </td><td>o  </td><td>l  </td><td>h  </td><td>y  </td><td>d  </td></tr>\n",
       "\t<tr><td>b  </td><td>y  </td><td>y  </td><td>t  </td><td>a  </td><td>f  </td><td>c  </td><td>b  </td><td>w  </td><td>e  </td><td>...</td><td>w  </td><td>w  </td><td>p  </td><td>w  </td><td>24 </td><td>o  </td><td>p  </td><td>k  </td><td>n  </td><td>m  </td></tr>\n",
       "\t<tr><td>f  </td><td>f  </td><td>y  </td><td>f  </td><td>f  </td><td>f  </td><td>c  </td><td>b  </td><td>h  </td><td>e  </td><td>...</td><td>n  </td><td>b  </td><td>p  </td><td>w  </td><td>23 </td><td>o  </td><td>l  </td><td>h  </td><td>y  </td><td>d  </td></tr>\n",
       "</tbody>\n",
       "</table>\n"
      ],
      "text/latex": [
       "\\begin{tabular}{r|llllllllllllllllllllllll}\n",
       " cap.shape & cap.surface & cap.color & bruises & odor & gill.attachment & gill.spacing & gill.size & gill.color & stalk.shape & ... & stalk.color.above.ring & stalk.color.below.ring & veil.type & veil.color & weight & ring.number & ring.type & spore.print.color & population & habitat\\\\\n",
       "\\hline\n",
       "\t x   & f   & g   & t   & n   & f   & c   & b   & u   & t   & ... & p   & g   & p   & w   & 23  & o   & p   & k   & y   & d  \\\\\n",
       "\t x   & y   & g   & f   & f   & f   & c   & b   & g   & e   & ... & b   & b   & p   & w   & 23  & o   & l   & h   & v   & d  \\\\\n",
       "\t b   & s   & w   & t   & a   & f   & c   & b   & w   & e   & ... & w   & w   & p   & w   & 24  & o   & p   & k   & s   & m  \\\\\n",
       "\t f   & y   & y   & f   & f   & f   & c   & b   & p   & e   & ... & n   & b   & p   & w   & 53  & o   & l   & h   & y   & d  \\\\\n",
       "\t b   & y   & y   & t   & a   & f   & c   & b   & w   & e   & ... & w   & w   & p   & w   & 24  & o   & p   & k   & n   & m  \\\\\n",
       "\t f   & f   & y   & f   & f   & f   & c   & b   & h   & e   & ... & n   & b   & p   & w   & 23  & o   & l   & h   & y   & d  \\\\\n",
       "\\end{tabular}\n"
      ],
      "text/markdown": [
       "\n",
       "cap.shape | cap.surface | cap.color | bruises | odor | gill.attachment | gill.spacing | gill.size | gill.color | stalk.shape | ... | stalk.color.above.ring | stalk.color.below.ring | veil.type | veil.color | weight | ring.number | ring.type | spore.print.color | population | habitat | \n",
       "|---|---|---|---|---|---|\n",
       "| x   | f   | g   | t   | n   | f   | c   | b   | u   | t   | ... | p   | g   | p   | w   | 23  | o   | p   | k   | y   | d   | \n",
       "| x   | y   | g   | f   | f   | f   | c   | b   | g   | e   | ... | b   | b   | p   | w   | 23  | o   | l   | h   | v   | d   | \n",
       "| b   | s   | w   | t   | a   | f   | c   | b   | w   | e   | ... | w   | w   | p   | w   | 24  | o   | p   | k   | s   | m   | \n",
       "| f   | y   | y   | f   | f   | f   | c   | b   | p   | e   | ... | n   | b   | p   | w   | 53  | o   | l   | h   | y   | d   | \n",
       "| b   | y   | y   | t   | a   | f   | c   | b   | w   | e   | ... | w   | w   | p   | w   | 24  | o   | p   | k   | n   | m   | \n",
       "| f   | f   | y   | f   | f   | f   | c   | b   | h   | e   | ... | n   | b   | p   | w   | 23  | o   | l   | h   | y   | d   | \n",
       "\n",
       "\n"
      ],
      "text/plain": [
       "  cap.shape cap.surface cap.color bruises odor gill.attachment gill.spacing\n",
       "1 x         f           g         t       n    f               c           \n",
       "2 x         y           g         f       f    f               c           \n",
       "3 b         s           w         t       a    f               c           \n",
       "4 f         y           y         f       f    f               c           \n",
       "5 b         y           y         t       a    f               c           \n",
       "6 f         f           y         f       f    f               c           \n",
       "  gill.size gill.color stalk.shape ... stalk.color.above.ring\n",
       "1 b         u          t           ... p                     \n",
       "2 b         g          e           ... b                     \n",
       "3 b         w          e           ... w                     \n",
       "4 b         p          e           ... n                     \n",
       "5 b         w          e           ... w                     \n",
       "6 b         h          e           ... n                     \n",
       "  stalk.color.below.ring veil.type veil.color weight ring.number ring.type\n",
       "1 g                      p         w          23     o           p        \n",
       "2 b                      p         w          23     o           l        \n",
       "3 w                      p         w          24     o           p        \n",
       "4 b                      p         w          53     o           l        \n",
       "5 w                      p         w          24     o           p        \n",
       "6 b                      p         w          23     o           l        \n",
       "  spore.print.color population habitat\n",
       "1 k                 y          d      \n",
       "2 h                 v          d      \n",
       "3 k                 s          m      \n",
       "4 h                 y          d      \n",
       "5 k                 n          m      \n",
       "6 h                 y          d      "
      ]
     },
     "metadata": {},
     "output_type": "display_data"
    }
   ],
   "source": [
    "head(mushroom_train)\n",
    "head(mushroom_test)"
   ]
  },
  {
   "cell_type": "code",
   "execution_count": 67,
   "metadata": {},
   "outputs": [
    {
     "data": {
      "text/html": [
       "<ol class=list-inline>\n",
       "\t<li>5686</li>\n",
       "\t<li>25</li>\n",
       "</ol>\n"
      ],
      "text/latex": [
       "\\begin{enumerate*}\n",
       "\\item 5686\n",
       "\\item 25\n",
       "\\end{enumerate*}\n"
      ],
      "text/markdown": [
       "1. 5686\n",
       "2. 25\n",
       "\n",
       "\n"
      ],
      "text/plain": [
       "[1] 5686   25"
      ]
     },
     "metadata": {},
     "output_type": "display_data"
    },
    {
     "data": {
      "text/html": [
       "<ol class=list-inline>\n",
       "\t<li>2438</li>\n",
       "\t<li>24</li>\n",
       "</ol>\n"
      ],
      "text/latex": [
       "\\begin{enumerate*}\n",
       "\\item 2438\n",
       "\\item 24\n",
       "\\end{enumerate*}\n"
      ],
      "text/markdown": [
       "1. 2438\n",
       "2. 24\n",
       "\n",
       "\n"
      ],
      "text/plain": [
       "[1] 2438   24"
      ]
     },
     "metadata": {},
     "output_type": "display_data"
    }
   ],
   "source": [
    "dim(mushroom_train)\n",
    "dim(mushroom_test)"
   ]
  },
  {
   "cell_type": "markdown",
   "metadata": {},
   "source": [
    "## Summarizing datasets"
   ]
  },
  {
   "cell_type": "code",
   "execution_count": 68,
   "metadata": {},
   "outputs": [
    {
     "name": "stdout",
     "output_type": "stream",
     "text": [
      "'data.frame':\t5686 obs. of  25 variables:\n",
      " $ class                   : Factor w/ 2 levels \"e\",\"p\": 2 2 1 2 1 2 1 1 2 2 ...\n",
      " $ cap.shape               : Factor w/ 6 levels \"b\",\"c\",\"f\",\"k\",..: 3 6 3 6 6 6 3 3 6 6 ...\n",
      " $ cap.surface             : Factor w/ 4 levels \"f\",\"g\",\"s\",\"y\": 3 4 3 3 3 1 3 1 4 3 ...\n",
      " $ cap.color               : Factor w/ 10 levels \"b\",\"c\",\"e\",\"g\",..: 3 9 5 3 9 10 4 5 3 4 ...\n",
      " $ bruises                 : Factor w/ 2 levels \"f\",\"t\": 1 2 2 1 2 1 1 2 1 2 ...\n",
      " $ odor                    : Factor w/ 9 levels \"a\",\"c\",\"f\",\"l\",..: 8 7 6 9 4 3 6 6 3 3 ...\n",
      " $ gill.attachment         : Factor w/ 2 levels \"a\",\"f\": 2 2 2 2 2 2 2 2 2 2 ...\n",
      " $ gill.spacing            : Factor w/ 2 levels \"c\",\"w\": 1 1 1 1 1 1 2 1 1 1 ...\n",
      " $ gill.size               : Factor w/ 2 levels \"b\",\"n\": 2 2 1 2 1 1 1 1 2 1 ...\n",
      " $ gill.color              : Factor w/ 12 levels \"b\",\"e\",\"g\",\"h\",..: 1 5 2 1 6 4 8 10 1 4 ...\n",
      " $ stalk.shape             : Factor w/ 2 levels \"e\",\"t\": 2 1 1 2 1 1 2 2 2 2 ...\n",
      " $ stalk.root              : Factor w/ 5 levels \"?\",\"b\",\"c\",\"e\",..: 1 4 1 1 3 2 4 2 1 2 ...\n",
      " $ radius                  : int  215 94 244 286 110 66 11 207 60 84 ...\n",
      " $ stalk.surface.above.ring: Factor w/ 4 levels \"f\",\"k\",\"s\",\"y\": 3 3 3 2 3 2 3 3 3 3 ...\n",
      " $ stalk.surface.below.ring: Factor w/ 4 levels \"f\",\"k\",\"s\",\"y\": 2 3 3 3 3 2 3 3 3 3 ...\n",
      " $ stalk.color.above.ring  : Factor w/ 9 levels \"b\",\"c\",\"e\",\"g\",..: 7 8 3 7 8 7 8 4 7 8 ...\n",
      " $ stalk.color.below.ring  : Factor w/ 9 levels \"b\",\"c\",\"e\",\"g\",..: 8 8 3 8 8 5 8 8 7 8 ...\n",
      " $ veil.type               : Factor w/ 1 level \"p\": 1 1 1 1 1 1 1 1 1 1 ...\n",
      " $ veil.color              : Factor w/ 4 levels \"n\",\"o\",\"w\",\"y\": 3 3 3 3 3 3 3 3 3 3 ...\n",
      " $ weight                  : int  38 43 37 82 36 23 43 25 50 47 ...\n",
      " $ ring.number             : Factor w/ 3 levels \"n\",\"o\",\"t\": 2 2 3 2 2 2 2 2 2 2 ...\n",
      " $ ring.type               : Factor w/ 5 levels \"e\",\"f\",\"l\",\"n\",..: 1 5 1 1 5 3 1 5 1 5 ...\n",
      " $ spore.print.color       : Factor w/ 9 levels \"b\",\"h\",\"k\",\"n\",..: 8 4 8 8 4 2 4 4 8 2 ...\n",
      " $ population              : Factor w/ 6 levels \"a\",\"c\",\"n\",\"s\",..: 5 5 2 5 4 6 1 5 5 5 ...\n",
      " $ habitat                 : Factor w/ 7 levels \"d\",\"g\",\"l\",\"m\",..: 3 6 7 3 4 2 2 1 5 2 ...\n",
      "'data.frame':\t2438 obs. of  24 variables:\n",
      " $ cap.shape               : Factor w/ 5 levels \"b\",\"f\",\"k\",\"s\",..: 5 5 1 2 1 2 5 3 2 2 ...\n",
      " $ cap.surface             : Factor w/ 3 levels \"f\",\"s\",\"y\": 1 3 2 3 3 1 1 2 3 2 ...\n",
      " $ cap.color               : Factor w/ 10 levels \"b\",\"c\",\"e\",\"g\",..: 4 4 9 10 10 10 6 5 5 9 ...\n",
      " $ bruises                 : Factor w/ 2 levels \"f\",\"t\": 2 1 2 1 2 1 1 1 2 2 ...\n",
      " $ odor                    : Factor w/ 9 levels \"a\",\"c\",\"f\",\"l\",..: 6 3 1 3 1 3 2 6 6 3 ...\n",
      " $ gill.attachment         : Factor w/ 2 levels \"a\",\"f\": 2 2 2 2 2 2 2 1 2 2 ...\n",
      " $ gill.spacing            : Factor w/ 2 levels \"c\",\"w\": 1 1 1 1 1 1 1 1 1 1 ...\n",
      " $ gill.size               : Factor w/ 2 levels \"b\",\"n\": 1 1 1 1 1 1 2 1 1 1 ...\n",
      " $ gill.color              : Factor w/ 12 levels \"b\",\"e\",\"g\",\"h\",..: 10 3 11 8 11 4 6 6 8 4 ...\n",
      " $ stalk.shape             : Factor w/ 2 levels \"e\",\"t\": 2 1 1 1 1 1 1 1 2 2 ...\n",
      " $ stalk.root              : Factor w/ 5 levels \"?\",\"b\",\"c\",\"e\",..: 2 2 3 2 3 2 2 1 2 2 ...\n",
      " $ radius                  : int  32 7 2 2 10 89 44 564 67 17 ...\n",
      " $ stalk.surface.above.ring: Factor w/ 4 levels \"f\",\"k\",\"s\",\"y\": 3 2 3 2 3 2 3 3 3 3 ...\n",
      " $ stalk.surface.below.ring: Factor w/ 4 levels \"f\",\"k\",\"s\",\"y\": 3 2 3 2 3 2 3 3 3 3 ...\n",
      " $ stalk.color.above.ring  : Factor w/ 8 levels \"b\",\"c\",\"e\",\"g\",..: 7 1 8 5 8 5 8 6 7 8 ...\n",
      " $ stalk.color.below.ring  : Factor w/ 9 levels \"b\",\"c\",\"e\",\"g\",..: 4 1 8 1 8 1 8 6 8 8 ...\n",
      " $ veil.type               : Factor w/ 1 level \"p\": 1 1 1 1 1 1 1 1 1 1 ...\n",
      " $ veil.color              : Factor w/ 3 levels \"n\",\"o\",\"w\": 3 3 3 3 3 3 3 2 3 3 ...\n",
      " $ weight                  : int  23 23 24 53 24 23 24 24 23 23 ...\n",
      " $ ring.number             : Factor w/ 3 levels \"n\",\"o\",\"t\": 2 2 2 2 2 2 2 2 2 2 ...\n",
      " $ ring.type               : Factor w/ 5 levels \"e\",\"f\",\"l\",\"n\",..: 5 3 5 3 5 3 5 5 5 5 ...\n",
      " $ spore.print.color       : Factor w/ 9 levels \"b\",\"h\",\"k\",\"n\",..: 3 2 3 2 3 2 4 1 4 2 ...\n",
      " $ population              : Factor w/ 6 levels \"a\",\"c\",\"n\",\"s\",..: 6 5 4 6 3 6 4 5 5 5 ...\n",
      " $ habitat                 : Factor w/ 7 levels \"d\",\"g\",\"l\",\"m\",..: 1 1 4 1 4 1 1 3 1 6 ...\n"
     ]
    }
   ],
   "source": [
    "str(mushroom_train)\n",
    "str(mushroom_test)"
   ]
  },
  {
   "cell_type": "markdown",
   "metadata": {},
   "source": [
    "## Making datasets comparable"
   ]
  },
  {
   "cell_type": "markdown",
   "metadata": {},
   "source": [
    "##### The variables 'cap.shape' and 'stalk.color.above.ring' have different number of levels in training and testing sets"
   ]
  },
  {
   "cell_type": "code",
   "execution_count": 69,
   "metadata": {
    "scrolled": true
   },
   "outputs": [
    {
     "data": {
      "text/plain": [
       "\n",
       "   b    c    f    k    s    x \n",
       " 312    4 2179  590   23 2578 "
      ]
     },
     "metadata": {},
     "output_type": "display_data"
    },
    {
     "data": {
      "text/plain": [
       "\n",
       "   b    f    k    s    x \n",
       " 140  973  238    9 1078 "
      ]
     },
     "metadata": {},
     "output_type": "display_data"
    }
   ],
   "source": [
    "table(mushroom_train$cap.shape)\n",
    "table(mushroom_test$cap.shape)"
   ]
  },
  {
   "cell_type": "code",
   "execution_count": 70,
   "metadata": {},
   "outputs": [
    {
     "data": {
      "text/plain": [
       "\n",
       "   b    c    e    g    n    o    p    w    y \n",
       " 297   24   70  430  315  121 1299 3122    8 "
      ]
     },
     "metadata": {},
     "output_type": "display_data"
    },
    {
     "data": {
      "text/plain": [
       "\n",
       "   b    c    e    g    n    o    p    w \n",
       " 135   12   26  146  133   71  573 1342 "
      ]
     },
     "metadata": {},
     "output_type": "display_data"
    }
   ],
   "source": [
    "table(mushroom_train$stalk.color.above.ring)\n",
    "table(mushroom_test$stalk.color.above.ring)"
   ]
  },
  {
   "cell_type": "markdown",
   "metadata": {},
   "source": [
    "##### We remove the extra levels from training datasets. This can be done only b'coz very few data will be lost in this case."
   ]
  },
  {
   "cell_type": "code",
   "execution_count": 71,
   "metadata": {
    "collapsed": true
   },
   "outputs": [],
   "source": [
    "mushroom_train = mushroom_train[mushroom_train$cap.shape != \"c\",]\n",
    "mushroom_train$cap.shape = factor(mushroom_train$cap.shape)\n",
    "\n",
    "mushroom_train = mushroom_train[mushroom_train$stalk.color.above.ring != \"y\",]\n",
    "mushroom_train$stalk.color.above.ring = factor(mushroom_train$stalk.color.above.ring)"
   ]
  },
  {
   "cell_type": "code",
   "execution_count": 72,
   "metadata": {},
   "outputs": [
    {
     "data": {
      "text/html": [
       "<ol class=list-inline>\n",
       "\t<li>5676</li>\n",
       "\t<li>25</li>\n",
       "</ol>\n"
      ],
      "text/latex": [
       "\\begin{enumerate*}\n",
       "\\item 5676\n",
       "\\item 25\n",
       "\\end{enumerate*}\n"
      ],
      "text/markdown": [
       "1. 5676\n",
       "2. 25\n",
       "\n",
       "\n"
      ],
      "text/plain": [
       "[1] 5676   25"
      ]
     },
     "metadata": {},
     "output_type": "display_data"
    }
   ],
   "source": [
    "dim(mushroom_train)"
   ]
  },
  {
   "cell_type": "markdown",
   "metadata": {},
   "source": [
    "# Univariate analysis"
   ]
  },
  {
   "cell_type": "code",
   "execution_count": 73,
   "metadata": {},
   "outputs": [
    {
     "data": {
      "text/plain": [
       "   Min. 1st Qu.  Median    Mean 3rd Qu.    Max. \n",
       "    1.0    38.0   129.0   202.5   259.0  3500.0 "
      ]
     },
     "metadata": {},
     "output_type": "display_data"
    },
    {
     "data": {
      "text/plain": [
       "   Min. 1st Qu.  Median    Mean 3rd Qu.    Max. \n",
       "   0.00   23.00   27.00   33.01   40.00  102.00 "
      ]
     },
     "metadata": {},
     "output_type": "display_data"
    }
   ],
   "source": [
    "summary(mushroom_train$radius)\n",
    "summary(mushroom_train$weight)"
   ]
  },
  {
   "cell_type": "code",
   "execution_count": 74,
   "metadata": {},
   "outputs": [],
   "source": [
    "library(ggplot2) # For visualisations"
   ]
  },
  {
   "cell_type": "code",
   "execution_count": 75,
   "metadata": {},
   "outputs": [
    {
     "data": {},
     "metadata": {},
     "output_type": "display_data"
    },
    {
     "name": "stderr",
     "output_type": "stream",
     "text": [
      "`stat_bin()` using `bins = 30`. Pick better value with `binwidth`.\n"
     ]
    },
    {
     "data": {},
     "metadata": {},
     "output_type": "display_data"
    },
    {
     "data": {
      "image/png": "[encoded data removed]",
      "text/plain": [
       "plot without title"
      ]
     },
     "metadata": {},
     "output_type": "display_data"
    },
    {
     "data": {
      "image/png": "[encoded data removed]",
      "text/plain": [
       "plot without title"
      ]
     },
     "metadata": {},
     "output_type": "display_data"
    }
   ],
   "source": [
    "ggplot(mushroom_train, aes(x = \"\", y = radius)) + geom_boxplot() + coord_cartesian(ylim = c(0, 1000))\n",
    "ggplot(mushroom_train, aes(weight)) + geom_histogram()"
   ]
  },
  {
   "cell_type": "code",
   "execution_count": 76,
   "metadata": {},
   "outputs": [
    {
     "name": "stdout",
     "output_type": "stream",
     "text": [
      "[1] \"odor\"\n"
     ]
    },
    {
     "data": {
      "text/plain": [
       "\n",
       "   a    c    f    l    m    n    p    s    y \n",
       " 270  127 1501  280   24 2477  188  411  398 "
      ]
     },
     "metadata": {},
     "output_type": "display_data"
    },
    {
     "name": "stdout",
     "output_type": "stream",
     "text": [
      "[1] \"cap.shape\"\n"
     ]
    },
    {
     "data": {
      "text/plain": [
       "\n",
       "   b    f    k    s    x \n",
       " 310 2177  588   23 2578 "
      ]
     },
     "metadata": {},
     "output_type": "display_data"
    },
    {
     "name": "stdout",
     "output_type": "stream",
     "text": [
      "[1] \"habitat\"\n"
     ]
    },
    {
     "data": {
      "text/plain": [
       "\n",
       "   d    g    l    m    p    u    w \n",
       "2227 1500  558  198  798  256  139 "
      ]
     },
     "metadata": {},
     "output_type": "display_data"
    },
    {
     "name": "stdout",
     "output_type": "stream",
     "text": [
      "[1] \"stalk.root\"\n"
     ]
    },
    {
     "data": {
      "text/plain": [
       "\n",
       "   ?    b    c    e    r \n",
       "1727 2663  374  780  132 "
      ]
     },
     "metadata": {},
     "output_type": "display_data"
    }
   ],
   "source": [
    "print(\"odor\")\n",
    "table(mushroom_train$odor)\n",
    "\n",
    "print(\"cap.shape\")\n",
    "table(mushroom_train$cap.shape)\n",
    "\n",
    "print(\"habitat\")\n",
    "table(mushroom_train$habitat)\n",
    "\n",
    "print(\"stalk.root\")\n",
    "table(mushroom_train$stalk.root)"
   ]
  },
  {
   "cell_type": "markdown",
   "metadata": {},
   "source": [
    "# Bivariate analysis"
   ]
  },
  {
   "cell_type": "code",
   "execution_count": 77,
   "metadata": {},
   "outputs": [
    {
     "data": {},
     "metadata": {},
     "output_type": "display_data"
    },
    {
     "data": {},
     "metadata": {},
     "output_type": "display_data"
    },
    {
     "data": {
      "image/png": "[encoded data removed]",
      "text/plain": [
       "plot without title"
      ]
     },
     "metadata": {},
     "output_type": "display_data"
    },
    {
     "data": {
      "image/png": "[encoded data removed]",
      "text/plain": [
       "plot without title"
      ]
     },
     "metadata": {},
     "output_type": "display_data"
    }
   ],
   "source": [
    "ggplot(mushroom_train, aes(x = class, y = radius)) + geom_boxplot() + coord_cartesian(ylim = c(0,1000))\n",
    "ggplot(mushroom_train, aes(x = class, y = weight)) + geom_boxplot()"
   ]
  },
  {
   "cell_type": "code",
   "execution_count": 78,
   "metadata": {},
   "outputs": [
    {
     "data": {},
     "metadata": {},
     "output_type": "display_data"
    },
    {
     "data": {},
     "metadata": {},
     "output_type": "display_data"
    },
    {
     "data": {
      "image/png": "[encoded data removed]",
      "text/plain": [
       "plot without title"
      ]
     },
     "metadata": {},
     "output_type": "display_data"
    },
    {
     "data": {},
     "metadata": {},
     "output_type": "display_data"
    },
    {
     "data": {
      "image/png": "[encoded data removed]",
      "text/plain": [
       "plot without title"
      ]
     },
     "metadata": {},
     "output_type": "display_data"
    },
    {
     "data": {},
     "metadata": {},
     "output_type": "display_data"
    },
    {
     "data": {
      "image/png": "[encoded data removed]",
      "text/plain": [
       "plot without title"
      ]
     },
     "metadata": {},
     "output_type": "display_data"
    },
    {
     "data": {},
     "metadata": {},
     "output_type": "display_data"
    },
    {
     "data": {
      "image/png": "[encoded data removed]",
      "text/plain": [
       "plot without title"
      ]
     },
     "metadata": {},
     "output_type": "display_data"
    },
    {
     "data": {},
     "metadata": {},
     "output_type": "display_data"
    },
    {
     "data": {
      "image/png": "[encoded data removed]",
      "text/plain": [
       "plot without title"
      ]
     },
     "metadata": {},
     "output_type": "display_data"
    },
    {
     "data": {
      "image/png": "[encoded data removed]",
      "text/plain": [
       "plot without title"
      ]
     },
     "metadata": {},
     "output_type": "display_data"
    }
   ],
   "source": [
    "ggplot(mushroom_train, aes(x = odor, fill = class)) + geom_bar(position = \"fill\")\n",
    "ggplot(mushroom_train, aes(x = habitat, fill = class)) + geom_bar(position = \"fill\")\n",
    "ggplot(mushroom_train, aes(x = population, fill = class)) + geom_bar(position = \"fill\")\n",
    "ggplot(mushroom_train, aes(x = spore.print.color, fill = class)) + geom_bar(position = \"fill\")\n",
    "ggplot(mushroom_train, aes(x = ring.type, fill = class)) + geom_bar(position = \"fill\")\n",
    "ggplot(mushroom_train, aes(x = gill.color, fill = class)) + geom_bar(position = \"fill\")"
   ]
  },
  {
   "cell_type": "markdown",
   "metadata": {},
   "source": [
    "# Missing values"
   ]
  },
  {
   "cell_type": "code",
   "execution_count": 79,
   "metadata": {
    "collapsed": true
   },
   "outputs": [],
   "source": [
    "mushroom_train[mushroom_train == \"?\"] = NA\n",
    "mushroom_test[mushroom_test == \"?\"] = NA"
   ]
  },
  {
   "cell_type": "code",
   "execution_count": 80,
   "metadata": {},
   "outputs": [
    {
     "data": {
      "text/html": [
       "<dl class=dl-horizontal>\n",
       "\t<dt>class</dt>\n",
       "\t\t<dd>0</dd>\n",
       "\t<dt>cap.shape</dt>\n",
       "\t\t<dd>0</dd>\n",
       "\t<dt>cap.surface</dt>\n",
       "\t\t<dd>0</dd>\n",
       "\t<dt>cap.color</dt>\n",
       "\t\t<dd>0</dd>\n",
       "\t<dt>bruises</dt>\n",
       "\t\t<dd>0</dd>\n",
       "\t<dt>odor</dt>\n",
       "\t\t<dd>0</dd>\n",
       "\t<dt>gill.attachment</dt>\n",
       "\t\t<dd>0</dd>\n",
       "\t<dt>gill.spacing</dt>\n",
       "\t\t<dd>0</dd>\n",
       "\t<dt>gill.size</dt>\n",
       "\t\t<dd>0</dd>\n",
       "\t<dt>gill.color</dt>\n",
       "\t\t<dd>0</dd>\n",
       "\t<dt>stalk.shape</dt>\n",
       "\t\t<dd>0</dd>\n",
       "\t<dt>stalk.root</dt>\n",
       "\t\t<dd>1727</dd>\n",
       "\t<dt>radius</dt>\n",
       "\t\t<dd>0</dd>\n",
       "\t<dt>stalk.surface.above.ring</dt>\n",
       "\t\t<dd>0</dd>\n",
       "\t<dt>stalk.surface.below.ring</dt>\n",
       "\t\t<dd>0</dd>\n",
       "\t<dt>stalk.color.above.ring</dt>\n",
       "\t\t<dd>0</dd>\n",
       "\t<dt>stalk.color.below.ring</dt>\n",
       "\t\t<dd>0</dd>\n",
       "\t<dt>veil.type</dt>\n",
       "\t\t<dd>0</dd>\n",
       "\t<dt>veil.color</dt>\n",
       "\t\t<dd>0</dd>\n",
       "\t<dt>weight</dt>\n",
       "\t\t<dd>0</dd>\n",
       "\t<dt>ring.number</dt>\n",
       "\t\t<dd>0</dd>\n",
       "\t<dt>ring.type</dt>\n",
       "\t\t<dd>0</dd>\n",
       "\t<dt>spore.print.color</dt>\n",
       "\t\t<dd>0</dd>\n",
       "\t<dt>population</dt>\n",
       "\t\t<dd>0</dd>\n",
       "\t<dt>habitat</dt>\n",
       "\t\t<dd>0</dd>\n",
       "</dl>\n"
      ],
      "text/latex": [
       "\\begin{description*}\n",
       "\\item[class] 0\n",
       "\\item[cap.shape] 0\n",
       "\\item[cap.surface] 0\n",
       "\\item[cap.color] 0\n",
       "\\item[bruises] 0\n",
       "\\item[odor] 0\n",
       "\\item[gill.attachment] 0\n",
       "\\item[gill.spacing] 0\n",
       "\\item[gill.size] 0\n",
       "\\item[gill.color] 0\n",
       "\\item[stalk.shape] 0\n",
       "\\item[stalk.root] 1727\n",
       "\\item[radius] 0\n",
       "\\item[stalk.surface.above.ring] 0\n",
       "\\item[stalk.surface.below.ring] 0\n",
       "\\item[stalk.color.above.ring] 0\n",
       "\\item[stalk.color.below.ring] 0\n",
       "\\item[veil.type] 0\n",
       "\\item[veil.color] 0\n",
       "\\item[weight] 0\n",
       "\\item[ring.number] 0\n",
       "\\item[ring.type] 0\n",
       "\\item[spore.print.color] 0\n",
       "\\item[population] 0\n",
       "\\item[habitat] 0\n",
       "\\end{description*}\n"
      ],
      "text/markdown": [
       "class\n",
       ":   0cap.shape\n",
       ":   0cap.surface\n",
       ":   0cap.color\n",
       ":   0bruises\n",
       ":   0odor\n",
       ":   0gill.attachment\n",
       ":   0gill.spacing\n",
       ":   0gill.size\n",
       ":   0gill.color\n",
       ":   0stalk.shape\n",
       ":   0stalk.root\n",
       ":   1727radius\n",
       ":   0stalk.surface.above.ring\n",
       ":   0stalk.surface.below.ring\n",
       ":   0stalk.color.above.ring\n",
       ":   0stalk.color.below.ring\n",
       ":   0veil.type\n",
       ":   0veil.color\n",
       ":   0weight\n",
       ":   0ring.number\n",
       ":   0ring.type\n",
       ":   0spore.print.color\n",
       ":   0population\n",
       ":   0habitat\n",
       ":   0\n",
       "\n"
      ],
      "text/plain": [
       "                   class                cap.shape              cap.surface \n",
       "                       0                        0                        0 \n",
       "               cap.color                  bruises                     odor \n",
       "                       0                        0                        0 \n",
       "         gill.attachment             gill.spacing                gill.size \n",
       "                       0                        0                        0 \n",
       "              gill.color              stalk.shape               stalk.root \n",
       "                       0                        0                     1727 \n",
       "                  radius stalk.surface.above.ring stalk.surface.below.ring \n",
       "                       0                        0                        0 \n",
       "  stalk.color.above.ring   stalk.color.below.ring                veil.type \n",
       "                       0                        0                        0 \n",
       "              veil.color                   weight              ring.number \n",
       "                       0                        0                        0 \n",
       "               ring.type        spore.print.color               population \n",
       "                       0                        0                        0 \n",
       "                 habitat \n",
       "                       0 "
      ]
     },
     "metadata": {},
     "output_type": "display_data"
    },
    {
     "data": {
      "text/html": [
       "<dl class=dl-horizontal>\n",
       "\t<dt>cap.shape</dt>\n",
       "\t\t<dd>0</dd>\n",
       "\t<dt>cap.surface</dt>\n",
       "\t\t<dd>0</dd>\n",
       "\t<dt>cap.color</dt>\n",
       "\t\t<dd>0</dd>\n",
       "\t<dt>bruises</dt>\n",
       "\t\t<dd>0</dd>\n",
       "\t<dt>odor</dt>\n",
       "\t\t<dd>0</dd>\n",
       "\t<dt>gill.attachment</dt>\n",
       "\t\t<dd>0</dd>\n",
       "\t<dt>gill.spacing</dt>\n",
       "\t\t<dd>0</dd>\n",
       "\t<dt>gill.size</dt>\n",
       "\t\t<dd>0</dd>\n",
       "\t<dt>gill.color</dt>\n",
       "\t\t<dd>0</dd>\n",
       "\t<dt>stalk.shape</dt>\n",
       "\t\t<dd>0</dd>\n",
       "\t<dt>stalk.root</dt>\n",
       "\t\t<dd>753</dd>\n",
       "\t<dt>radius</dt>\n",
       "\t\t<dd>0</dd>\n",
       "\t<dt>stalk.surface.above.ring</dt>\n",
       "\t\t<dd>0</dd>\n",
       "\t<dt>stalk.surface.below.ring</dt>\n",
       "\t\t<dd>0</dd>\n",
       "\t<dt>stalk.color.above.ring</dt>\n",
       "\t\t<dd>0</dd>\n",
       "\t<dt>stalk.color.below.ring</dt>\n",
       "\t\t<dd>0</dd>\n",
       "\t<dt>veil.type</dt>\n",
       "\t\t<dd>0</dd>\n",
       "\t<dt>veil.color</dt>\n",
       "\t\t<dd>0</dd>\n",
       "\t<dt>weight</dt>\n",
       "\t\t<dd>0</dd>\n",
       "\t<dt>ring.number</dt>\n",
       "\t\t<dd>0</dd>\n",
       "\t<dt>ring.type</dt>\n",
       "\t\t<dd>0</dd>\n",
       "\t<dt>spore.print.color</dt>\n",
       "\t\t<dd>0</dd>\n",
       "\t<dt>population</dt>\n",
       "\t\t<dd>0</dd>\n",
       "\t<dt>habitat</dt>\n",
       "\t\t<dd>0</dd>\n",
       "</dl>\n"
      ],
      "text/latex": [
       "\\begin{description*}\n",
       "\\item[cap.shape] 0\n",
       "\\item[cap.surface] 0\n",
       "\\item[cap.color] 0\n",
       "\\item[bruises] 0\n",
       "\\item[odor] 0\n",
       "\\item[gill.attachment] 0\n",
       "\\item[gill.spacing] 0\n",
       "\\item[gill.size] 0\n",
       "\\item[gill.color] 0\n",
       "\\item[stalk.shape] 0\n",
       "\\item[stalk.root] 753\n",
       "\\item[radius] 0\n",
       "\\item[stalk.surface.above.ring] 0\n",
       "\\item[stalk.surface.below.ring] 0\n",
       "\\item[stalk.color.above.ring] 0\n",
       "\\item[stalk.color.below.ring] 0\n",
       "\\item[veil.type] 0\n",
       "\\item[veil.color] 0\n",
       "\\item[weight] 0\n",
       "\\item[ring.number] 0\n",
       "\\item[ring.type] 0\n",
       "\\item[spore.print.color] 0\n",
       "\\item[population] 0\n",
       "\\item[habitat] 0\n",
       "\\end{description*}\n"
      ],
      "text/markdown": [
       "cap.shape\n",
       ":   0cap.surface\n",
       ":   0cap.color\n",
       ":   0bruises\n",
       ":   0odor\n",
       ":   0gill.attachment\n",
       ":   0gill.spacing\n",
       ":   0gill.size\n",
       ":   0gill.color\n",
       ":   0stalk.shape\n",
       ":   0stalk.root\n",
       ":   753radius\n",
       ":   0stalk.surface.above.ring\n",
       ":   0stalk.surface.below.ring\n",
       ":   0stalk.color.above.ring\n",
       ":   0stalk.color.below.ring\n",
       ":   0veil.type\n",
       ":   0veil.color\n",
       ":   0weight\n",
       ":   0ring.number\n",
       ":   0ring.type\n",
       ":   0spore.print.color\n",
       ":   0population\n",
       ":   0habitat\n",
       ":   0\n",
       "\n"
      ],
      "text/plain": [
       "               cap.shape              cap.surface                cap.color \n",
       "                       0                        0                        0 \n",
       "                 bruises                     odor          gill.attachment \n",
       "                       0                        0                        0 \n",
       "            gill.spacing                gill.size               gill.color \n",
       "                       0                        0                        0 \n",
       "             stalk.shape               stalk.root                   radius \n",
       "                       0                      753                        0 \n",
       "stalk.surface.above.ring stalk.surface.below.ring   stalk.color.above.ring \n",
       "                       0                        0                        0 \n",
       "  stalk.color.below.ring                veil.type               veil.color \n",
       "                       0                        0                        0 \n",
       "                  weight              ring.number                ring.type \n",
       "                       0                        0                        0 \n",
       "       spore.print.color               population                  habitat \n",
       "                       0                        0                        0 "
      ]
     },
     "metadata": {},
     "output_type": "display_data"
    }
   ],
   "source": [
    "colSums(is.na(mushroom_train))\n",
    "colSums(is.na(mushroom_test))"
   ]
  },
  {
   "cell_type": "markdown",
   "metadata": {},
   "source": [
    "# Predicting missing values\n",
    "#### Since lots of values are missing, we can't simply ignore them or replace them with mean. Instead, the missing values have been predicted using other variables which are expected to be most related to stalk.root"
   ]
  },
  {
   "cell_type": "code",
   "execution_count": 81,
   "metadata": {
    "collapsed": true
   },
   "outputs": [],
   "source": [
    "imputer = subset(mushroom_train, mushroom_train$stalk.root != \"NA\")"
   ]
  },
  {
   "cell_type": "code",
   "execution_count": 82,
   "metadata": {},
   "outputs": [
    {
     "data": {
      "text/html": [
       "<ol class=list-inline>\n",
       "\t<li>3949</li>\n",
       "\t<li>25</li>\n",
       "</ol>\n"
      ],
      "text/latex": [
       "\\begin{enumerate*}\n",
       "\\item 3949\n",
       "\\item 25\n",
       "\\end{enumerate*}\n"
      ],
      "text/markdown": [
       "1. 3949\n",
       "2. 25\n",
       "\n",
       "\n"
      ],
      "text/plain": [
       "[1] 3949   25"
      ]
     },
     "metadata": {},
     "output_type": "display_data"
    }
   ],
   "source": [
    "dim(imputer)"
   ]
  },
  {
   "cell_type": "markdown",
   "metadata": {},
   "source": [
    "#### Using decision tree to make predictions"
   ]
  },
  {
   "cell_type": "code",
   "execution_count": 83,
   "metadata": {
    "collapsed": true
   },
   "outputs": [],
   "source": [
    "library(rpart) # Library used for classification and regression trees"
   ]
  },
  {
   "cell_type": "code",
   "execution_count": 84,
   "metadata": {
    "collapsed": true
   },
   "outputs": [],
   "source": [
    "tree_imputer = rpart(stalk.root ~ habitat + population + ring.type + odor + \n",
    "                     cap.shape + stalk.surface.below.ring + stalk.surface.above.ring, data = imputer, method = \"class\")"
   ]
  },
  {
   "cell_type": "code",
   "execution_count": 85,
   "metadata": {
    "collapsed": true
   },
   "outputs": [],
   "source": [
    "tree_pred = predict(tree_imputer, newdata = mushroom_train, type = \"class\")"
   ]
  },
  {
   "cell_type": "code",
   "execution_count": 86,
   "metadata": {
    "collapsed": true
   },
   "outputs": [],
   "source": [
    "mushroom_train$stalk.pred = tree_pred"
   ]
  },
  {
   "cell_type": "code",
   "execution_count": 87,
   "metadata": {},
   "outputs": [
    {
     "data": {
      "text/html": [
       "<ol class=list-inline>\n",
       "\t<li>5676</li>\n",
       "\t<li>26</li>\n",
       "</ol>\n"
      ],
      "text/latex": [
       "\\begin{enumerate*}\n",
       "\\item 5676\n",
       "\\item 26\n",
       "\\end{enumerate*}\n"
      ],
      "text/markdown": [
       "1. 5676\n",
       "2. 26\n",
       "\n",
       "\n"
      ],
      "text/plain": [
       "[1] 5676   26"
      ]
     },
     "metadata": {},
     "output_type": "display_data"
    }
   ],
   "source": [
    "dim(mushroom_train)"
   ]
  },
  {
   "cell_type": "code",
   "execution_count": 88,
   "metadata": {
    "collapsed": true
   },
   "outputs": [],
   "source": [
    "tree_pred = predict(tree_imputer, newdata = mushroom_test, type = \"class\")"
   ]
  },
  {
   "cell_type": "code",
   "execution_count": 89,
   "metadata": {
    "collapsed": true
   },
   "outputs": [],
   "source": [
    "mushroom_test$stalk.pred = tree_pred"
   ]
  },
  {
   "cell_type": "code",
   "execution_count": 90,
   "metadata": {},
   "outputs": [
    {
     "data": {
      "text/html": [
       "<ol class=list-inline>\n",
       "\t<li>2438</li>\n",
       "\t<li>25</li>\n",
       "</ol>\n"
      ],
      "text/latex": [
       "\\begin{enumerate*}\n",
       "\\item 2438\n",
       "\\item 25\n",
       "\\end{enumerate*}\n"
      ],
      "text/markdown": [
       "1. 2438\n",
       "2. 25\n",
       "\n",
       "\n"
      ],
      "text/plain": [
       "[1] 2438   25"
      ]
     },
     "metadata": {},
     "output_type": "display_data"
    }
   ],
   "source": [
    "dim(mushroom_test)"
   ]
  },
  {
   "cell_type": "markdown",
   "metadata": {},
   "source": [
    "#### Replacing missing values"
   ]
  },
  {
   "cell_type": "code",
   "execution_count": 91,
   "metadata": {
    "collapsed": true
   },
   "outputs": [],
   "source": [
    "for(i in seq(1:5676)){\n",
    "  if(is.na(mushroom_train$stalk.root[i])){\n",
    "    mushroom_train$stalk.root[i] = mushroom_train$stalk.pred[i]\n",
    "  }\n",
    "}\n",
    "\n",
    "for(i in seq(1:2438)){\n",
    "  if(is.na(mushroom_test$stalk.root[i])){\n",
    "    mushroom_test$stalk.root[i] = mushroom_test$stalk.pred[i]\n",
    "  }\n",
    "}"
   ]
  },
  {
   "cell_type": "code",
   "execution_count": 92,
   "metadata": {},
   "outputs": [
    {
     "data": {
      "text/html": [
       "<dl class=dl-horizontal>\n",
       "\t<dt>class</dt>\n",
       "\t\t<dd>0</dd>\n",
       "\t<dt>cap.shape</dt>\n",
       "\t\t<dd>0</dd>\n",
       "\t<dt>cap.surface</dt>\n",
       "\t\t<dd>0</dd>\n",
       "\t<dt>cap.color</dt>\n",
       "\t\t<dd>0</dd>\n",
       "\t<dt>bruises</dt>\n",
       "\t\t<dd>0</dd>\n",
       "\t<dt>odor</dt>\n",
       "\t\t<dd>0</dd>\n",
       "\t<dt>gill.attachment</dt>\n",
       "\t\t<dd>0</dd>\n",
       "\t<dt>gill.spacing</dt>\n",
       "\t\t<dd>0</dd>\n",
       "\t<dt>gill.size</dt>\n",
       "\t\t<dd>0</dd>\n",
       "\t<dt>gill.color</dt>\n",
       "\t\t<dd>0</dd>\n",
       "\t<dt>stalk.shape</dt>\n",
       "\t\t<dd>0</dd>\n",
       "\t<dt>stalk.root</dt>\n",
       "\t\t<dd>0</dd>\n",
       "\t<dt>radius</dt>\n",
       "\t\t<dd>0</dd>\n",
       "\t<dt>stalk.surface.above.ring</dt>\n",
       "\t\t<dd>0</dd>\n",
       "\t<dt>stalk.surface.below.ring</dt>\n",
       "\t\t<dd>0</dd>\n",
       "\t<dt>stalk.color.above.ring</dt>\n",
       "\t\t<dd>0</dd>\n",
       "\t<dt>stalk.color.below.ring</dt>\n",
       "\t\t<dd>0</dd>\n",
       "\t<dt>veil.type</dt>\n",
       "\t\t<dd>0</dd>\n",
       "\t<dt>veil.color</dt>\n",
       "\t\t<dd>0</dd>\n",
       "\t<dt>weight</dt>\n",
       "\t\t<dd>0</dd>\n",
       "\t<dt>ring.number</dt>\n",
       "\t\t<dd>0</dd>\n",
       "\t<dt>ring.type</dt>\n",
       "\t\t<dd>0</dd>\n",
       "\t<dt>spore.print.color</dt>\n",
       "\t\t<dd>0</dd>\n",
       "\t<dt>population</dt>\n",
       "\t\t<dd>0</dd>\n",
       "\t<dt>habitat</dt>\n",
       "\t\t<dd>0</dd>\n",
       "\t<dt>stalk.pred</dt>\n",
       "\t\t<dd>0</dd>\n",
       "</dl>\n"
      ],
      "text/latex": [
       "\\begin{description*}\n",
       "\\item[class] 0\n",
       "\\item[cap.shape] 0\n",
       "\\item[cap.surface] 0\n",
       "\\item[cap.color] 0\n",
       "\\item[bruises] 0\n",
       "\\item[odor] 0\n",
       "\\item[gill.attachment] 0\n",
       "\\item[gill.spacing] 0\n",
       "\\item[gill.size] 0\n",
       "\\item[gill.color] 0\n",
       "\\item[stalk.shape] 0\n",
       "\\item[stalk.root] 0\n",
       "\\item[radius] 0\n",
       "\\item[stalk.surface.above.ring] 0\n",
       "\\item[stalk.surface.below.ring] 0\n",
       "\\item[stalk.color.above.ring] 0\n",
       "\\item[stalk.color.below.ring] 0\n",
       "\\item[veil.type] 0\n",
       "\\item[veil.color] 0\n",
       "\\item[weight] 0\n",
       "\\item[ring.number] 0\n",
       "\\item[ring.type] 0\n",
       "\\item[spore.print.color] 0\n",
       "\\item[population] 0\n",
       "\\item[habitat] 0\n",
       "\\item[stalk.pred] 0\n",
       "\\end{description*}\n"
      ],
      "text/markdown": [
       "class\n",
       ":   0cap.shape\n",
       ":   0cap.surface\n",
       ":   0cap.color\n",
       ":   0bruises\n",
       ":   0odor\n",
       ":   0gill.attachment\n",
       ":   0gill.spacing\n",
       ":   0gill.size\n",
       ":   0gill.color\n",
       ":   0stalk.shape\n",
       ":   0stalk.root\n",
       ":   0radius\n",
       ":   0stalk.surface.above.ring\n",
       ":   0stalk.surface.below.ring\n",
       ":   0stalk.color.above.ring\n",
       ":   0stalk.color.below.ring\n",
       ":   0veil.type\n",
       ":   0veil.color\n",
       ":   0weight\n",
       ":   0ring.number\n",
       ":   0ring.type\n",
       ":   0spore.print.color\n",
       ":   0population\n",
       ":   0habitat\n",
       ":   0stalk.pred\n",
       ":   0\n",
       "\n"
      ],
      "text/plain": [
       "                   class                cap.shape              cap.surface \n",
       "                       0                        0                        0 \n",
       "               cap.color                  bruises                     odor \n",
       "                       0                        0                        0 \n",
       "         gill.attachment             gill.spacing                gill.size \n",
       "                       0                        0                        0 \n",
       "              gill.color              stalk.shape               stalk.root \n",
       "                       0                        0                        0 \n",
       "                  radius stalk.surface.above.ring stalk.surface.below.ring \n",
       "                       0                        0                        0 \n",
       "  stalk.color.above.ring   stalk.color.below.ring                veil.type \n",
       "                       0                        0                        0 \n",
       "              veil.color                   weight              ring.number \n",
       "                       0                        0                        0 \n",
       "               ring.type        spore.print.color               population \n",
       "                       0                        0                        0 \n",
       "                 habitat               stalk.pred \n",
       "                       0                        0 "
      ]
     },
     "metadata": {},
     "output_type": "display_data"
    },
    {
     "data": {
      "text/html": [
       "<dl class=dl-horizontal>\n",
       "\t<dt>cap.shape</dt>\n",
       "\t\t<dd>0</dd>\n",
       "\t<dt>cap.surface</dt>\n",
       "\t\t<dd>0</dd>\n",
       "\t<dt>cap.color</dt>\n",
       "\t\t<dd>0</dd>\n",
       "\t<dt>bruises</dt>\n",
       "\t\t<dd>0</dd>\n",
       "\t<dt>odor</dt>\n",
       "\t\t<dd>0</dd>\n",
       "\t<dt>gill.attachment</dt>\n",
       "\t\t<dd>0</dd>\n",
       "\t<dt>gill.spacing</dt>\n",
       "\t\t<dd>0</dd>\n",
       "\t<dt>gill.size</dt>\n",
       "\t\t<dd>0</dd>\n",
       "\t<dt>gill.color</dt>\n",
       "\t\t<dd>0</dd>\n",
       "\t<dt>stalk.shape</dt>\n",
       "\t\t<dd>0</dd>\n",
       "\t<dt>stalk.root</dt>\n",
       "\t\t<dd>0</dd>\n",
       "\t<dt>radius</dt>\n",
       "\t\t<dd>0</dd>\n",
       "\t<dt>stalk.surface.above.ring</dt>\n",
       "\t\t<dd>0</dd>\n",
       "\t<dt>stalk.surface.below.ring</dt>\n",
       "\t\t<dd>0</dd>\n",
       "\t<dt>stalk.color.above.ring</dt>\n",
       "\t\t<dd>0</dd>\n",
       "\t<dt>stalk.color.below.ring</dt>\n",
       "\t\t<dd>0</dd>\n",
       "\t<dt>veil.type</dt>\n",
       "\t\t<dd>0</dd>\n",
       "\t<dt>veil.color</dt>\n",
       "\t\t<dd>0</dd>\n",
       "\t<dt>weight</dt>\n",
       "\t\t<dd>0</dd>\n",
       "\t<dt>ring.number</dt>\n",
       "\t\t<dd>0</dd>\n",
       "\t<dt>ring.type</dt>\n",
       "\t\t<dd>0</dd>\n",
       "\t<dt>spore.print.color</dt>\n",
       "\t\t<dd>0</dd>\n",
       "\t<dt>population</dt>\n",
       "\t\t<dd>0</dd>\n",
       "\t<dt>habitat</dt>\n",
       "\t\t<dd>0</dd>\n",
       "\t<dt>stalk.pred</dt>\n",
       "\t\t<dd>0</dd>\n",
       "</dl>\n"
      ],
      "text/latex": [
       "\\begin{description*}\n",
       "\\item[cap.shape] 0\n",
       "\\item[cap.surface] 0\n",
       "\\item[cap.color] 0\n",
       "\\item[bruises] 0\n",
       "\\item[odor] 0\n",
       "\\item[gill.attachment] 0\n",
       "\\item[gill.spacing] 0\n",
       "\\item[gill.size] 0\n",
       "\\item[gill.color] 0\n",
       "\\item[stalk.shape] 0\n",
       "\\item[stalk.root] 0\n",
       "\\item[radius] 0\n",
       "\\item[stalk.surface.above.ring] 0\n",
       "\\item[stalk.surface.below.ring] 0\n",
       "\\item[stalk.color.above.ring] 0\n",
       "\\item[stalk.color.below.ring] 0\n",
       "\\item[veil.type] 0\n",
       "\\item[veil.color] 0\n",
       "\\item[weight] 0\n",
       "\\item[ring.number] 0\n",
       "\\item[ring.type] 0\n",
       "\\item[spore.print.color] 0\n",
       "\\item[population] 0\n",
       "\\item[habitat] 0\n",
       "\\item[stalk.pred] 0\n",
       "\\end{description*}\n"
      ],
      "text/markdown": [
       "cap.shape\n",
       ":   0cap.surface\n",
       ":   0cap.color\n",
       ":   0bruises\n",
       ":   0odor\n",
       ":   0gill.attachment\n",
       ":   0gill.spacing\n",
       ":   0gill.size\n",
       ":   0gill.color\n",
       ":   0stalk.shape\n",
       ":   0stalk.root\n",
       ":   0radius\n",
       ":   0stalk.surface.above.ring\n",
       ":   0stalk.surface.below.ring\n",
       ":   0stalk.color.above.ring\n",
       ":   0stalk.color.below.ring\n",
       ":   0veil.type\n",
       ":   0veil.color\n",
       ":   0weight\n",
       ":   0ring.number\n",
       ":   0ring.type\n",
       ":   0spore.print.color\n",
       ":   0population\n",
       ":   0habitat\n",
       ":   0stalk.pred\n",
       ":   0\n",
       "\n"
      ],
      "text/plain": [
       "               cap.shape              cap.surface                cap.color \n",
       "                       0                        0                        0 \n",
       "                 bruises                     odor          gill.attachment \n",
       "                       0                        0                        0 \n",
       "            gill.spacing                gill.size               gill.color \n",
       "                       0                        0                        0 \n",
       "             stalk.shape               stalk.root                   radius \n",
       "                       0                        0                        0 \n",
       "stalk.surface.above.ring stalk.surface.below.ring   stalk.color.above.ring \n",
       "                       0                        0                        0 \n",
       "  stalk.color.below.ring                veil.type               veil.color \n",
       "                       0                        0                        0 \n",
       "                  weight              ring.number                ring.type \n",
       "                       0                        0                        0 \n",
       "       spore.print.color               population                  habitat \n",
       "                       0                        0                        0 \n",
       "              stalk.pred \n",
       "                       0 "
      ]
     },
     "metadata": {},
     "output_type": "display_data"
    }
   ],
   "source": [
    "colSums(is.na(mushroom_train))\n",
    "colSums(is.na(mushroom_test))"
   ]
  },
  {
   "cell_type": "markdown",
   "metadata": {},
   "source": [
    "# Baseline model"
   ]
  },
  {
   "cell_type": "markdown",
   "metadata": {},
   "source": [
    "#### In bivariate analysis, we noted that 'odor' is a deciding factor in determining the 'class'. Hence we'll build a simple model (decision tree) as our baseline to compare our other models."
   ]
  },
  {
   "cell_type": "code",
   "execution_count": 93,
   "metadata": {},
   "outputs": [],
   "source": [
    "library(rpart)\n",
    "library(rpart.plot) # Used for visualisation of trees"
   ]
  },
  {
   "cell_type": "markdown",
   "metadata": {},
   "source": [
    "#### Dividing mushroom_train furthur into training and testing set to build and analyse our model"
   ]
  },
  {
   "cell_type": "code",
   "execution_count": 94,
   "metadata": {},
   "outputs": [],
   "source": [
    "library(caTools) # Used to properly divide traing and testing sets"
   ]
  },
  {
   "cell_type": "code",
   "execution_count": 95,
   "metadata": {
    "collapsed": true
   },
   "outputs": [],
   "source": [
    "split = sample.split(mushroom_train$class, SplitRatio = 0.75)"
   ]
  },
  {
   "cell_type": "code",
   "execution_count": 96,
   "metadata": {
    "collapsed": true
   },
   "outputs": [],
   "source": [
    "train = subset(mushroom_train, split == T)"
   ]
  },
  {
   "cell_type": "code",
   "execution_count": 97,
   "metadata": {
    "collapsed": true
   },
   "outputs": [],
   "source": [
    "test = subset(mushroom_train, split == F)"
   ]
  },
  {
   "cell_type": "markdown",
   "metadata": {},
   "source": [
    "#### Training the model"
   ]
  },
  {
   "cell_type": "code",
   "execution_count": 98,
   "metadata": {
    "collapsed": true
   },
   "outputs": [],
   "source": [
    "baseline = rpart(class ~ odor, data = train, method = \"class\")"
   ]
  },
  {
   "cell_type": "code",
   "execution_count": 99,
   "metadata": {},
   "outputs": [
    {
     "data": {
      "image/png": "[encoded data removed]",
      "text/plain": [
       "plot without title"
      ]
     },
     "metadata": {},
     "output_type": "display_data"
    }
   ],
   "source": [
    "prp(baseline)"
   ]
  },
  {
   "cell_type": "code",
   "execution_count": 100,
   "metadata": {
    "collapsed": true
   },
   "outputs": [],
   "source": [
    "baseline_pred = predict(baseline, newdata = test, type = \"class\")"
   ]
  },
  {
   "cell_type": "code",
   "execution_count": 101,
   "metadata": {},
   "outputs": [
    {
     "data": {
      "text/plain": [
       "   baseline_pred\n",
       "      e   p\n",
       "  e 736   0\n",
       "  p  20 663"
      ]
     },
     "metadata": {},
     "output_type": "display_data"
    }
   ],
   "source": [
    "table(test$class, baseline_pred)"
   ]
  },
  {
   "cell_type": "code",
   "execution_count": 102,
   "metadata": {},
   "outputs": [
    {
     "data": {
      "text/html": [
       "0.985905567300916"
      ],
      "text/latex": [
       "0.985905567300916"
      ],
      "text/markdown": [
       "0.985905567300916"
      ],
      "text/plain": [
       "[1] 0.9859056"
      ]
     },
     "metadata": {},
     "output_type": "display_data"
    }
   ],
   "source": [
    "base_accuracy = (736+663)/(736+663+20)\n",
    "base_accuracy"
   ]
  },
  {
   "cell_type": "markdown",
   "metadata": {},
   "source": [
    "#### Even though the baseline model seems quite impressive, we can still improve the accuracy by using other relevant data"
   ]
  },
  {
   "cell_type": "markdown",
   "metadata": {},
   "source": [
    "# Building the model"
   ]
  },
  {
   "cell_type": "markdown",
   "metadata": {},
   "source": [
    "##  Feature selection: Forward selection"
   ]
  },
  {
   "cell_type": "markdown",
   "metadata": {},
   "source": [
    "### By building decision trees with one predictor at a time, we find that some predictors were single-handedly able to produce quite accurate models. 10 highest accuracy producing predictors are odor, habitat, population, spore.print.color, ring.type, stalk.color.below.ring, stalk.surface.below.ring, gill.color, gill.size and stalk.root. Highest being 'odor' (98.5%)."
   ]
  },
  {
   "cell_type": "markdown",
   "metadata": {},
   "source": [
    "### Hence, we make use of random forest using all these 10 variables"
   ]
  },
  {
   "cell_type": "code",
   "execution_count": 103,
   "metadata": {},
   "outputs": [],
   "source": [
    "library(randomForest)"
   ]
  },
  {
   "cell_type": "code",
   "execution_count": 104,
   "metadata": {
    "collapsed": true
   },
   "outputs": [],
   "source": [
    "random_mushroom = randomForest(class ~ odor + habitat + population + spore.print.color + ring.type + \n",
    "                               stalk.color.below.ring + stalk.surface.below.ring + gill.color + \n",
    "                               gill.size + stalk.root, data = train)"
   ]
  },
  {
   "cell_type": "code",
   "execution_count": 105,
   "metadata": {
    "collapsed": true
   },
   "outputs": [],
   "source": [
    "pred_test = predict(random_mushroom, newdata = test)"
   ]
  },
  {
   "cell_type": "code",
   "execution_count": 106,
   "metadata": {},
   "outputs": [
    {
     "data": {
      "text/plain": [
       "   pred_test\n",
       "      e   p\n",
       "  e 736   0\n",
       "  p   0 683"
      ]
     },
     "metadata": {},
     "output_type": "display_data"
    }
   ],
   "source": [
    "table(test$class, pred_test)"
   ]
  },
  {
   "cell_type": "code",
   "execution_count": 107,
   "metadata": {},
   "outputs": [
    {
     "data": {
      "text/html": [
       "1"
      ],
      "text/latex": [
       "1"
      ],
      "text/markdown": [
       "1"
      ],
      "text/plain": [
       "[1] 1"
      ]
     },
     "metadata": {},
     "output_type": "display_data"
    }
   ],
   "source": [
    "mushroom_accu = (736+683)/(736+683)\n",
    "mushroom_accu"
   ]
  },
  {
   "cell_type": "code",
   "execution_count": 108,
   "metadata": {},
   "outputs": [
    {
     "data": {
      "image/png": "[encoded data removed]",
      "text/plain": [
       "Plot with title \"Important variables for predicting Class\""
      ]
     },
     "metadata": {},
     "output_type": "display_data"
    }
   ],
   "source": [
    "varImpPlot(random_mushroom, main=\"Important variables for predicting Class\")"
   ]
  },
  {
   "cell_type": "code",
   "execution_count": 109,
   "metadata": {},
   "outputs": [
    {
     "data": {
      "text/html": [
       "<table>\n",
       "<thead><tr><th></th><th scope=col>MeanDecreaseGini</th></tr></thead>\n",
       "<tbody>\n",
       "\t<tr><th scope=row>odor</th><td>994.13559</td></tr>\n",
       "\t<tr><th scope=row>habitat</th><td> 41.89452</td></tr>\n",
       "\t<tr><th scope=row>population</th><td> 63.38612</td></tr>\n",
       "\t<tr><th scope=row>spore.print.color</th><td>407.66277</td></tr>\n",
       "\t<tr><th scope=row>ring.type</th><td> 92.69857</td></tr>\n",
       "\t<tr><th scope=row>stalk.color.below.ring</th><td> 18.51706</td></tr>\n",
       "\t<tr><th scope=row>stalk.surface.below.ring</th><td>104.92764</td></tr>\n",
       "\t<tr><th scope=row>gill.color</th><td>179.79592</td></tr>\n",
       "\t<tr><th scope=row>gill.size</th><td>114.20952</td></tr>\n",
       "\t<tr><th scope=row>stalk.root</th><td> 98.80146</td></tr>\n",
       "</tbody>\n",
       "</table>\n"
      ],
      "text/latex": [
       "\\begin{tabular}{r|l}\n",
       "  & MeanDecreaseGini\\\\\n",
       "\\hline\n",
       "\todor & 994.13559\\\\\n",
       "\thabitat &  41.89452\\\\\n",
       "\tpopulation &  63.38612\\\\\n",
       "\tspore.print.color & 407.66277\\\\\n",
       "\tring.type &  92.69857\\\\\n",
       "\tstalk.color.below.ring &  18.51706\\\\\n",
       "\tstalk.surface.below.ring & 104.92764\\\\\n",
       "\tgill.color & 179.79592\\\\\n",
       "\tgill.size & 114.20952\\\\\n",
       "\tstalk.root &  98.80146\\\\\n",
       "\\end{tabular}\n"
      ],
      "text/markdown": [
       "\n",
       "| <!--/--> | MeanDecreaseGini | \n",
       "|---|---|---|---|---|---|---|---|---|---|\n",
       "| odor | 994.13559 | \n",
       "| habitat |  41.89452 | \n",
       "| population |  63.38612 | \n",
       "| spore.print.color | 407.66277 | \n",
       "| ring.type |  92.69857 | \n",
       "| stalk.color.below.ring |  18.51706 | \n",
       "| stalk.surface.below.ring | 104.92764 | \n",
       "| gill.color | 179.79592 | \n",
       "| gill.size | 114.20952 | \n",
       "| stalk.root |  98.80146 | \n",
       "\n",
       "\n"
      ],
      "text/plain": [
       "                         MeanDecreaseGini\n",
       "odor                     994.13559       \n",
       "habitat                   41.89452       \n",
       "population                63.38612       \n",
       "spore.print.color        407.66277       \n",
       "ring.type                 92.69857       \n",
       "stalk.color.below.ring    18.51706       \n",
       "stalk.surface.below.ring 104.92764       \n",
       "gill.color               179.79592       \n",
       "gill.size                114.20952       \n",
       "stalk.root                98.80146       "
      ]
     },
     "metadata": {},
     "output_type": "display_data"
    }
   ],
   "source": [
    "random_mushroom$importance"
   ]
  },
  {
   "cell_type": "markdown",
   "metadata": {},
   "source": [
    "## Feature selection: Backward selection"
   ]
  },
  {
   "cell_type": "markdown",
   "metadata": {},
   "source": [
    "### Even though our model is showing 100% accuracy, there are three variables which don't seem to contribute much to our model."
   ]
  },
  {
   "cell_type": "markdown",
   "metadata": {},
   "source": [
    "### We create a final model using the best 7 remaining variables and using cross-validation"
   ]
  },
  {
   "cell_type": "code",
   "execution_count": 110,
   "metadata": {},
   "outputs": [],
   "source": [
    "library(caret) # Used here for cross-validation"
   ]
  },
  {
   "cell_type": "code",
   "execution_count": 111,
   "metadata": {
    "collapsed": true
   },
   "outputs": [],
   "source": [
    "control = trainControl(method=\"repeatedcv\", number=4, repeats=3)"
   ]
  },
  {
   "cell_type": "code",
   "execution_count": 112,
   "metadata": {
    "collapsed": true
   },
   "outputs": [],
   "source": [
    "Final_model = train(class ~ odor + spore.print.color + ring.type + stalk.surface.below.ring + gill.color + \n",
    "                               gill.size + stalk.root, data=train, method=\"rf\", preProcess=\"scale\", trControl=control)"
   ]
  },
  {
   "cell_type": "code",
   "execution_count": 113,
   "metadata": {},
   "outputs": [
    {
     "data": {
      "text/plain": [
       "Random Forest \n",
       "\n",
       "4257 samples\n",
       "   7 predictor\n",
       "   2 classes: 'e', 'p' \n",
       "\n",
       "Pre-processing: scaled (39) \n",
       "Resampling: Cross-Validated (4 fold, repeated 3 times) \n",
       "Summary of sample sizes: 3193, 3192, 3193, 3193, 3193, 3193, ... \n",
       "Resampling results across tuning parameters:\n",
       "\n",
       "  mtry  Accuracy   Kappa    \n",
       "   2    0.9886457  0.9772417\n",
       "  20    0.9998434  0.9996862\n",
       "  39    1.0000000  1.0000000\n",
       "\n",
       "Accuracy was used to select the optimal model using  the largest value.\n",
       "The final value used for the model was mtry = 39."
      ]
     },
     "metadata": {},
     "output_type": "display_data"
    }
   ],
   "source": [
    "Final_model"
   ]
  },
  {
   "cell_type": "code",
   "execution_count": 114,
   "metadata": {
    "collapsed": true
   },
   "outputs": [],
   "source": [
    "pred_test = predict(Final_model, newdata = test)"
   ]
  },
  {
   "cell_type": "code",
   "execution_count": 115,
   "metadata": {},
   "outputs": [
    {
     "data": {
      "text/plain": [
       "   pred_test\n",
       "      e   p\n",
       "  e 736   0\n",
       "  p   0 683"
      ]
     },
     "metadata": {},
     "output_type": "display_data"
    }
   ],
   "source": [
    "table(test$class, pred_test)"
   ]
  },
  {
   "cell_type": "code",
   "execution_count": 116,
   "metadata": {},
   "outputs": [
    {
     "data": {
      "text/html": [
       "1"
      ],
      "text/latex": [
       "1"
      ],
      "text/markdown": [
       "1"
      ],
      "text/plain": [
       "[1] 1"
      ]
     },
     "metadata": {},
     "output_type": "display_data"
    }
   ],
   "source": [
    "accuracy = (736+683)/(736+683)\n",
    "accuracy"
   ]
  },
  {
   "cell_type": "markdown",
   "metadata": {},
   "source": [
    "# Making predictions"
   ]
  },
  {
   "cell_type": "code",
   "execution_count": 117,
   "metadata": {
    "collapsed": true
   },
   "outputs": [],
   "source": [
    "Final_pred = predict(Final_model, newdata = mushroom_test)"
   ]
  },
  {
   "cell_type": "code",
   "execution_count": 118,
   "metadata": {
    "collapsed": true
   },
   "outputs": [],
   "source": [
    "mushroom_test$Predictions = Final_pred"
   ]
  },
  {
   "cell_type": "code",
   "execution_count": 119,
   "metadata": {},
   "outputs": [
    {
     "data": {
      "text/html": [
       "<ol class=list-inline>\n",
       "\t<li>2438</li>\n",
       "\t<li>26</li>\n",
       "</ol>\n"
      ],
      "text/latex": [
       "\\begin{enumerate*}\n",
       "\\item 2438\n",
       "\\item 26\n",
       "\\end{enumerate*}\n"
      ],
      "text/markdown": [
       "1. 2438\n",
       "2. 26\n",
       "\n",
       "\n"
      ],
      "text/plain": [
       "[1] 2438   26"
      ]
     },
     "metadata": {},
     "output_type": "display_data"
    }
   ],
   "source": [
    "dim(mushroom_test)"
   ]
  },
  {
   "cell_type": "code",
   "execution_count": 120,
   "metadata": {},
   "outputs": [
    {
     "data": {
      "text/html": [
       "<ol class=list-inline>\n",
       "\t<li>e</li>\n",
       "\t<li>p</li>\n",
       "\t<li>e</li>\n",
       "\t<li>p</li>\n",
       "\t<li>e</li>\n",
       "\t<li>p</li>\n",
       "\t<li>p</li>\n",
       "\t<li>e</li>\n",
       "\t<li>e</li>\n",
       "\t<li>p</li>\n",
       "\t<li>e</li>\n",
       "\t<li>e</li>\n",
       "\t<li>p</li>\n",
       "\t<li>p</li>\n",
       "\t<li>e</li>\n",
       "</ol>\n"
      ],
      "text/latex": [
       "\\begin{enumerate*}\n",
       "\\item e\n",
       "\\item p\n",
       "\\item e\n",
       "\\item p\n",
       "\\item e\n",
       "\\item p\n",
       "\\item p\n",
       "\\item e\n",
       "\\item e\n",
       "\\item p\n",
       "\\item e\n",
       "\\item e\n",
       "\\item p\n",
       "\\item p\n",
       "\\item e\n",
       "\\end{enumerate*}\n"
      ],
      "text/markdown": [
       "1. e\n",
       "2. p\n",
       "3. e\n",
       "4. p\n",
       "5. e\n",
       "6. p\n",
       "7. p\n",
       "8. e\n",
       "9. e\n",
       "10. p\n",
       "11. e\n",
       "12. e\n",
       "13. p\n",
       "14. p\n",
       "15. e\n",
       "\n",
       "\n"
      ],
      "text/plain": [
       " [1] e p e p e p p e e p e e p p e\n",
       "Levels: e p"
      ]
     },
     "metadata": {},
     "output_type": "display_data"
    }
   ],
   "source": [
    "head(mushroom_test$Predictions, n = 15)"
   ]
  },
  {
   "cell_type": "code",
   "execution_count": 121,
   "metadata": {},
   "outputs": [],
   "source": [
    "mushroom_predictions = data.frame(Final_pred)"
   ]
  },
  {
   "cell_type": "code",
   "execution_count": 122,
   "metadata": {},
   "outputs": [
    {
     "name": "stdout",
     "output_type": "stream",
     "text": [
      "'data.frame':\t2438 obs. of  1 variable:\n",
      " $ Final_pred: Factor w/ 2 levels \"e\",\"p\": 1 2 1 2 1 2 2 1 1 2 ...\n"
     ]
    }
   ],
   "source": [
    "str(mushroom_predictions)"
   ]
  },
  {
   "cell_type": "code",
   "execution_count": 123,
   "metadata": {
    "collapsed": true
   },
   "outputs": [],
   "source": [
    "write.csv(mushroom_predictions, 'mushroom_predictions.csv')"
   ]
  }
 ],
 "metadata": {
  "kernelspec": {
   "display_name": "R",
   "language": "R",
   "name": "ir"
  },
  "language_info": {
   "codemirror_mode": "r",
   "file_extension": ".r",
   "mimetype": "text/x-r-source",
   "name": "R",
   "pygments_lexer": "r",
   "version": "3.4.1"
  }
 },
 "nbformat": 4,
 "nbformat_minor": 2
}
